{
 "cells": [
  {
   "cell_type": "code",
   "execution_count": 1,
   "metadata": {},
   "outputs": [],
   "source": [
    "import os"
   ]
  },
  {
   "cell_type": "code",
   "execution_count": 2,
   "metadata": {},
   "outputs": [],
   "source": [
    "def all_lines(path):\n",
    "    for filename in os.listdir(path): # Gets a list of files in path\n",
    "        full_filename = os.path.join(path, filename) # uses a os.path.join to create a full filename that we'll open\n",
    "        \n",
    "        try:\n",
    "            for line in open(full_filename): # opens and iterates over each line in full_filenames\n",
    "                yield  line # Returns the line using yield, needrd in iterators\n",
    "            \n",
    "        except OSError: # Ignores file-related problems silently\n",
    "            pass"
   ]
  },
  {
   "cell_type": "code",
   "execution_count": null,
   "metadata": {},
   "outputs": [],
   "source": []
  }
 ],
 "metadata": {
  "kernelspec": {
   "display_name": "Python 3",
   "language": "python",
   "name": "python3"
  },
  "language_info": {
   "codemirror_mode": {
    "name": "ipython",
    "version": 3
   },
   "file_extension": ".py",
   "mimetype": "text/x-python",
   "name": "python",
   "nbconvert_exporter": "python",
   "pygments_lexer": "ipython3",
   "version": "3.8.5"
  }
 },
 "nbformat": 4,
 "nbformat_minor": 4
}
