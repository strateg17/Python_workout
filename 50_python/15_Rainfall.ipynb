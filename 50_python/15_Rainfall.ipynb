{
 "cells": [
  {
   "cell_type": "code",
   "execution_count": 20,
   "metadata": {},
   "outputs": [],
   "source": [
    "def get_rainfall():\n",
    "    rainfall = {}\n",
    "    \n",
    "    while True:\n",
    "        city_name = input('Enter the city name: ')\n",
    "        if not city_name:\n",
    "            break\n",
    "        \n",
    "        try:\n",
    "            mm_rain = int(input('Enter the mm of rain in the city: '))\n",
    "        \n",
    "        except ValueError:\n",
    "            print('You didnt enter a valid integer; try again.')\n",
    "            continue\n",
    "        \n",
    "        rainfall[city_name] = rainfall.get(city_name,0) + int(mm_rain)\n",
    "        \n",
    "    for city_name, mm_rain in rainfall.items():\n",
    "            print(f'{city_name} : {mm_rain}')"
   ]
  },
  {
   "cell_type": "code",
   "execution_count": 21,
   "metadata": {},
   "outputs": [
    {
     "name": "stdin",
     "output_type": "stream",
     "text": [
      "Enter the city name:  L\n",
      "Enter the mm of rain in the city:  10\n",
      "Enter the city name:  \n"
     ]
    },
    {
     "name": "stdout",
     "output_type": "stream",
     "text": [
      "L : 10\n"
     ]
    }
   ],
   "source": [
    "get_rainfall()"
   ]
  },
  {
   "cell_type": "code",
   "execution_count": null,
   "metadata": {},
   "outputs": [],
   "source": []
  }
 ],
 "metadata": {
  "kernelspec": {
   "display_name": "Python 3",
   "language": "python",
   "name": "python3"
  },
  "language_info": {
   "codemirror_mode": {
    "name": "ipython",
    "version": 3
   },
   "file_extension": ".py",
   "mimetype": "text/x-python",
   "name": "python",
   "nbconvert_exporter": "python",
   "pygments_lexer": "ipython3",
   "version": "3.8.5"
  }
 },
 "nbformat": 4,
 "nbformat_minor": 4
}
