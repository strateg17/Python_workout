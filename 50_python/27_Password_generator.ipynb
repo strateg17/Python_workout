{
 "cells": [
  {
   "cell_type": "code",
   "execution_count": 1,
   "metadata": {},
   "outputs": [],
   "source": [
    "import random "
   ]
  },
  {
   "cell_type": "code",
   "execution_count": 6,
   "metadata": {},
   "outputs": [],
   "source": [
    "def create_password_generator(characters): # Defines the outer function\n",
    "    def create_password(lenghth): # Defines the inner function with def running each time we run the outer function\n",
    "        output = []\n",
    "        \n",
    "        for i in range(lenghth):\n",
    "            output.append(random.choice(characters)) # Adds a new, random element from characters to output\n",
    "        return ''.join(output) # Returns a string based on the elements of output\n",
    "    return create_password # Returns the inner function to the caller"
   ]
  },
  {
   "cell_type": "code",
   "execution_count": 7,
   "metadata": {},
   "outputs": [],
   "source": [
    "alpha_password = create_password_generator('abcdef')\n",
    "symbol_password = create_password_generator('!@#$%')"
   ]
  },
  {
   "cell_type": "code",
   "execution_count": 8,
   "metadata": {},
   "outputs": [
    {
     "name": "stdout",
     "output_type": "stream",
     "text": [
      "acbda\n",
      "badaeffcad\n"
     ]
    }
   ],
   "source": [
    "print(alpha_password(5))\n",
    "print(alpha_password(10))"
   ]
  },
  {
   "cell_type": "code",
   "execution_count": 9,
   "metadata": {},
   "outputs": [
    {
     "name": "stdout",
     "output_type": "stream",
     "text": [
      "%!!!$\n",
      "#@%##$@#@#\n"
     ]
    }
   ],
   "source": [
    "print(symbol_password(5))\n",
    "print(symbol_password(10))"
   ]
  }
 ],
 "metadata": {
  "kernelspec": {
   "display_name": "Python 3",
   "language": "python",
   "name": "python3"
  },
  "language_info": {
   "codemirror_mode": {
    "name": "ipython",
    "version": 3
   },
   "file_extension": ".py",
   "mimetype": "text/x-python",
   "name": "python",
   "nbconvert_exporter": "python",
   "pygments_lexer": "ipython3",
   "version": "3.8.5"
  }
 },
 "nbformat": 4,
 "nbformat_minor": 4
}
