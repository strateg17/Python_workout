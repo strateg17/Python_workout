{
 "cells": [
  {
   "cell_type": "code",
   "execution_count": 1,
   "metadata": {},
   "outputs": [],
   "source": [
    "import random"
   ]
  },
  {
   "cell_type": "code",
   "execution_count": 6,
   "metadata": {},
   "outputs": [],
   "source": [
    "def guessing_game():\n",
    "    answer = random.randint(0,100)\n",
    "    \n",
    "    while True:\n",
    "        gues_answer = int(input('Write your number: '))\n",
    "        \n",
    "        if gues_answer == answer:\n",
    "            print('Just right')\n",
    "            break\n",
    "        \n",
    "        if gues_answer > answer:\n",
    "            print('Too high')\n",
    "            \n",
    "        else:\n",
    "            print('Too low')"
   ]
  },
  {
   "cell_type": "code",
   "execution_count": null,
   "metadata": {},
   "outputs": [
    {
     "name": "stdout",
     "output_type": "stream",
     "text": [
      "Write your number: 15\n",
      "Too low\n",
      "Write your number: 20\n",
      "Too low\n",
      "Write your number: 50\n",
      "Too low\n",
      "Write your number: 75\n",
      "Too low\n",
      "Write your number: 85\n",
      "Too high\n",
      "Write your number: 80\n",
      "Too high\n"
     ]
    }
   ],
   "source": [
    "guessing_game()"
   ]
  },
  {
   "cell_type": "code",
   "execution_count": null,
   "metadata": {},
   "outputs": [],
   "source": []
  },
  {
   "cell_type": "code",
   "execution_count": null,
   "metadata": {},
   "outputs": [],
   "source": []
  },
  {
   "cell_type": "code",
   "execution_count": null,
   "metadata": {},
   "outputs": [],
   "source": []
  },
  {
   "cell_type": "code",
   "execution_count": null,
   "metadata": {},
   "outputs": [],
   "source": []
  }
 ],
 "metadata": {
  "kernelspec": {
   "display_name": "Python 3",
   "language": "python",
   "name": "python3"
  },
  "language_info": {
   "codemirror_mode": {
    "name": "ipython",
    "version": 3
   },
   "file_extension": ".py",
   "mimetype": "text/x-python",
   "name": "python",
   "nbconvert_exporter": "python",
   "pygments_lexer": "ipython3",
   "version": "3.8.3"
  }
 },
 "nbformat": 4,
 "nbformat_minor": 4
}
