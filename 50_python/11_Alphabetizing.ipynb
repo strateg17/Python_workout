{
 "cells": [
  {
   "cell_type": "code",
   "execution_count": 1,
   "metadata": {},
   "outputs": [],
   "source": [
    "PEOPLE = [{'first':'Reuven',  'last':'Learner','email':'reuven@learner.co.il'},\n",
    "          {'first':'Donald',  'last':'Trump',  'email':'president@whitehouse.gov'},\n",
    "          {'first':'Vladimir','last':'Putin',  'email':'president@kremvax.ru'}]"
   ]
  },
  {
   "cell_type": "code",
   "execution_count": 2,
   "metadata": {},
   "outputs": [],
   "source": [
    "def person_dict_to_list(dict):\n",
    "    return [dict[last], dict[firts]]"
   ]
  },
  {
   "cell_type": "code",
   "execution_count": 9,
   "metadata": {},
   "outputs": [
    {
     "name": "stdout",
     "output_type": "stream",
     "text": [
      "Learner, Reuven: reuven@learner.co.il\n",
      "Putin, Vladimir: president@kremvax.ru\n",
      "Trump, Donald: president@whitehouse.gov\n"
     ]
    }
   ],
   "source": [
    "for person in sorted(PEOPLE, key=lambda x:[x['last'], x['first']]):\n",
    "    print(f'{person[\"last\"]}, {person[\"first\"]}: {person[\"email\"]}')"
   ]
  },
  {
   "cell_type": "code",
   "execution_count": 10,
   "metadata": {},
   "outputs": [],
   "source": [
    "s = 'abcdef'\n",
    "t = (10, 20, 30, 40, 50, 60)"
   ]
  },
  {
   "cell_type": "code",
   "execution_count": 13,
   "metadata": {},
   "outputs": [
    {
     "name": "stdout",
     "output_type": "stream",
     "text": [
      "('c', 'e')\n",
      "(30, 50)\n"
     ]
    }
   ],
   "source": [
    "import operator\n",
    "get_2_and_4 = operator.itemgetter(2,4)\n",
    "print(get_2_and_4(s))\n",
    "print(get_2_and_4(t))"
   ]
  },
  {
   "cell_type": "code",
   "execution_count": 16,
   "metadata": {},
   "outputs": [
    {
     "name": "stdout",
     "output_type": "stream",
     "text": [
      "Learner, Reuven: reuven@learner.co.il\n",
      "Putin, Vladimir: president@kremvax.ru\n",
      "Trump, Donald: president@whitehouse.gov\n"
     ]
    }
   ],
   "source": [
    "from operator import itemgetter\n",
    "for p in sorted(PEOPLE,key=itemgetter('last', 'first')):\n",
    "    print(f'{p[\"last\"]}, {p[\"first\"]}: {p[\"email\"]}')"
   ]
  },
  {
   "cell_type": "markdown",
   "metadata": {},
   "source": [
    "# Solution"
   ]
  },
  {
   "cell_type": "code",
   "execution_count": 19,
   "metadata": {},
   "outputs": [],
   "source": [
    "import operator"
   ]
  },
  {
   "cell_type": "code",
   "execution_count": 21,
   "metadata": {},
   "outputs": [],
   "source": [
    "PEOPLE = [{'first':'Reuven',  'last':'Learner','email':'reuven@learner.co.il'},\n",
    "          {'first':'Donald',  'last':'Trump',  'email':'president@whitehouse.gov'},\n",
    "          {'first':'Vladimir','last':'Putin',  'email':'president@kremvax.ru'}]"
   ]
  },
  {
   "cell_type": "code",
   "execution_count": 23,
   "metadata": {},
   "outputs": [],
   "source": [
    "def alphabetize_names(list_of_dicts):\n",
    "    return sorted(list_of_dicts, key=operator.itemgetter('last', 'first'))"
   ]
  },
  {
   "cell_type": "code",
   "execution_count": 24,
   "metadata": {},
   "outputs": [
    {
     "name": "stdout",
     "output_type": "stream",
     "text": [
      "[{'first': 'Reuven', 'last': 'Learner', 'email': 'reuven@learner.co.il'}, {'first': 'Vladimir', 'last': 'Putin', 'email': 'president@kremvax.ru'}, {'first': 'Donald', 'last': 'Trump', 'email': 'president@whitehouse.gov'}]\n"
     ]
    }
   ],
   "source": [
    "print(alphabetize_names(PEOPLE))"
   ]
  }
 ],
 "metadata": {
  "kernelspec": {
   "display_name": "Python 3",
   "language": "python",
   "name": "python3"
  },
  "language_info": {
   "codemirror_mode": {
    "name": "ipython",
    "version": 3
   },
   "file_extension": ".py",
   "mimetype": "text/x-python",
   "name": "python",
   "nbconvert_exporter": "python",
   "pygments_lexer": "ipython3",
   "version": "3.8.5"
  }
 },
 "nbformat": 4,
 "nbformat_minor": 4
}
