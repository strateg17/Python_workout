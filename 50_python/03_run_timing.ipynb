{
 "cells": [
  {
   "cell_type": "code",
   "execution_count": 12,
   "metadata": {},
   "outputs": [],
   "source": [
    "def run_timing():\n",
    "    \"\"\"Ask the user to repeatedly for numeric input. Prints the avarege time and umber of runs\"\"\"\n",
    "    \n",
    "    number_of_runs = 0\n",
    "    total_time = 0\n",
    "    \n",
    "    while True:\n",
    "        one_run = input('Enter 10 km run time: ')\n",
    "        \n",
    "        if not one_run:\n",
    "            break\n",
    "            \n",
    "        number_of_runs += 1\n",
    "        total_time += float(one_run)\n",
    "        \n",
    "    average_time = total_time/number_of_runs\n",
    "    \n",
    "    print(f'Average of {average_time}, over {number_of_runs} runs')"
   ]
  },
  {
   "cell_type": "code",
   "execution_count": 13,
   "metadata": {},
   "outputs": [
    {
     "name": "stdout",
     "output_type": "stream",
     "text": [
      "Enter 10 km run time: 5\n",
      "Enter 10 km run time: 5\n",
      "Enter 10 km run time: 10\n",
      "Enter 10 km run time: 15\n",
      "Enter 10 km run time: 45\n",
      "Enter 10 km run time: \n",
      "Average of 16.0, over 5 runs\n"
     ]
    }
   ],
   "source": [
    "run_timing()"
   ]
  }
 ],
 "metadata": {
  "kernelspec": {
   "display_name": "Python 3",
   "language": "python",
   "name": "python3"
  },
  "language_info": {
   "codemirror_mode": {
    "name": "ipython",
    "version": 3
   },
   "file_extension": ".py",
   "mimetype": "text/x-python",
   "name": "python",
   "nbconvert_exporter": "python",
   "pygments_lexer": "ipython3",
   "version": "3.8.3"
  }
 },
 "nbformat": 4,
 "nbformat_minor": 4
}
