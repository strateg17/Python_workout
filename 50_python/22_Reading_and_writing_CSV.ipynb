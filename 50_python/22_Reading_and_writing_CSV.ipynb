{
 "cells": [
  {
   "cell_type": "code",
   "execution_count": 1,
   "metadata": {},
   "outputs": [],
   "source": [
    "import csv"
   ]
  },
  {
   "cell_type": "code",
   "execution_count": 3,
   "metadata": {},
   "outputs": [],
   "source": [
    "def passwd_to_csv(passwd_filename, csv_filename):\n",
    "    with open(passwd_filename) as passwd, open(csv_filename,'w') as output:\n",
    "        infile = csv.reader(passwd, delimeter=':')\n",
    "        outfile = csv.writer(output, delimiter='\\t')\n",
    "        \n",
    "        for record in infile:\n",
    "            if len(record) > 1:\n",
    "                outfile.writerow((record[0],record[2]))\n",
    "    "
   ]
  },
  {
   "cell_type": "code",
   "execution_count": null,
   "metadata": {},
   "outputs": [],
   "source": []
  }
 ],
 "metadata": {
  "kernelspec": {
   "display_name": "Python 3",
   "language": "python",
   "name": "python3"
  },
  "language_info": {
   "codemirror_mode": {
    "name": "ipython",
    "version": 3
   },
   "file_extension": ".py",
   "mimetype": "text/x-python",
   "name": "python",
   "nbconvert_exporter": "python",
   "pygments_lexer": "ipython3",
   "version": "3.8.5"
  }
 },
 "nbformat": 4,
 "nbformat_minor": 4
}
