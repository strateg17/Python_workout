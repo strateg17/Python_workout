{
 "cells": [
  {
   "cell_type": "code",
   "execution_count": 1,
   "metadata": {},
   "outputs": [],
   "source": [
    "class Circle():\n",
    "    \n",
    "    def __init__(self, data, max_times):\n",
    "        self.data = data\n",
    "        self.max_times = max_times\n",
    "    \n",
    "    def __iter__(self):\n",
    "        n = len(self.data)\n",
    "        return (self.data[x % n] for x in range(self.max_times))"
   ]
  },
  {
   "cell_type": "code",
   "execution_count": 2,
   "metadata": {},
   "outputs": [],
   "source": [
    "class CircleIterator():\n",
    "    def __init__(self, data, max_times):\n",
    "        self.data = data\n",
    "        self.max_times = max_times\n",
    "        self.index = 0\n",
    "    \n",
    "    def __next__(self):\n",
    "        if self.index >= self.max_times:\n",
    "            raise StopIteration\n",
    "        value = self.data[self.index % len(self.data)]\n",
    "        self.index += 1\n",
    "        return value"
   ]
  },
  {
   "cell_type": "code",
   "execution_count": 3,
   "metadata": {},
   "outputs": [],
   "source": [
    "class Circle():\n",
    "    def __init__(self, data, max_times):\n",
    "        self.data = data\n",
    "        self.max_times = max_times\n",
    "        \n",
    "    def __iter__(self):\n",
    "        return CircleIterator(self.data, self.max_times)"
   ]
  },
  {
   "cell_type": "code",
   "execution_count": 4,
   "metadata": {},
   "outputs": [],
   "source": [
    "c = Circle('abc', 5)"
   ]
  },
  {
   "cell_type": "code",
   "execution_count": 6,
   "metadata": {},
   "outputs": [
    {
     "name": "stdout",
     "output_type": "stream",
     "text": [
      "['a', 'b', 'c', 'a', 'b']\n"
     ]
    }
   ],
   "source": [
    "print(list(c))"
   ]
  },
  {
   "cell_type": "code",
   "execution_count": null,
   "metadata": {},
   "outputs": [],
   "source": []
  }
 ],
 "metadata": {
  "kernelspec": {
   "display_name": "Python 3",
   "language": "python",
   "name": "python3"
  },
  "language_info": {
   "codemirror_mode": {
    "name": "ipython",
    "version": 3
   },
   "file_extension": ".py",
   "mimetype": "text/x-python",
   "name": "python",
   "nbconvert_exporter": "python",
   "pygments_lexer": "ipython3",
   "version": "3.8.5"
  }
 },
 "nbformat": 4,
 "nbformat_minor": 4
}
