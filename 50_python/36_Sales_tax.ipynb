{
 "cells": [
  {
   "cell_type": "code",
   "execution_count": 2,
   "metadata": {},
   "outputs": [],
   "source": [
    "from decimal import Decimal\n",
    "\n",
    "rates = { 'Chico': Decimal('0.5'), \n",
    "         'Groucho': Decimal('0.7'), \n",
    "         'Harpo': Decimal('0.5'), \n",
    "         'Zeppo': Decimal('0.4') \n",
    "        }\n",
    "def time_percentage(hour):\n",
    "    return hour / Decimal('24.0')\n",
    "\n",
    "def calculate_tax(amount, state, hour):\n",
    "    return float(amount + (amount * rates[state] * time_percentage(hour)))"
   ]
  },
  {
   "cell_type": "code",
   "execution_count": 3,
   "metadata": {},
   "outputs": [
    {
     "name": "stdout",
     "output_type": "stream",
     "text": [
      "625.0\n"
     ]
    }
   ],
   "source": [
    "print(calculate_tax(500,'Harpo',12))"
   ]
  },
  {
   "cell_type": "code",
   "execution_count": null,
   "metadata": {},
   "outputs": [],
   "source": []
  }
 ],
 "metadata": {
  "kernelspec": {
   "display_name": "Python 3",
   "language": "python",
   "name": "python3"
  },
  "language_info": {
   "codemirror_mode": {
    "name": "ipython",
    "version": 3
   },
   "file_extension": ".py",
   "mimetype": "text/x-python",
   "name": "python",
   "nbconvert_exporter": "python",
   "pygments_lexer": "ipython3",
   "version": "3.8.5"
  }
 },
 "nbformat": 4,
 "nbformat_minor": 4
}
