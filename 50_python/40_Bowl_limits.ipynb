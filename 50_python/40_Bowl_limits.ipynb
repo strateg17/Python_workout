{
 "cells": [
  {
   "cell_type": "code",
   "execution_count": 3,
   "metadata": {},
   "outputs": [],
   "source": [
    "class Scoop():\n",
    "    def __init__(self, flavor):\n",
    "        self.flavor = flavor"
   ]
  },
  {
   "cell_type": "code",
   "execution_count": 4,
   "metadata": {},
   "outputs": [],
   "source": [
    "class Bowl():\n",
    "    max_scopes = 3 # max scopes in not a variable, but an attribute of the class Bowl\n",
    "    \n",
    "    def __init__(self): \n",
    "        self.scoops = []\n",
    "        \n",
    "    def add_scopes(self, *new_scopes):\n",
    "        for one_scope in new_scopes:\n",
    "            if len(self.scoops) < self.max_scopes:\n",
    "                self.scoops.append(one_scope)\n",
    "\n",
    "                \n",
    "    def __repr__(self):\n",
    "        return '\\n'.join(s.flavor for s in self.scoops)"
   ]
  },
  {
   "cell_type": "code",
   "execution_count": 5,
   "metadata": {},
   "outputs": [],
   "source": [
    "class BigBowl(Bowl):\n",
    "    max_scopes = 5"
   ]
  },
  {
   "cell_type": "code",
   "execution_count": 7,
   "metadata": {},
   "outputs": [],
   "source": [
    "s1 = Scoop('chocolate')\n",
    "s2 = Scoop('vanilla')\n",
    "s3 = Scoop('persimmon')\n",
    "s4 = Scoop('flavor 4')\n",
    "s5 = Scoop('flavor 5')"
   ]
  },
  {
   "cell_type": "code",
   "execution_count": 8,
   "metadata": {},
   "outputs": [
    {
     "name": "stdout",
     "output_type": "stream",
     "text": [
      "chocolate\n",
      "vanilla\n",
      "persimmon\n",
      "flavor 4\n",
      "flavor 5\n"
     ]
    }
   ],
   "source": [
    "bb = BigBowl()\n",
    "bb.add_scopes(s1,s2)\n",
    "bb.add_scopes(s3)\n",
    "bb.add_scopes(s4,s5)\n",
    "print(bb)"
   ]
  }
 ],
 "metadata": {
  "kernelspec": {
   "display_name": "Python 3",
   "language": "python",
   "name": "python3"
  },
  "language_info": {
   "codemirror_mode": {
    "name": "ipython",
    "version": 3
   },
   "file_extension": ".py",
   "mimetype": "text/x-python",
   "name": "python",
   "nbconvert_exporter": "python",
   "pygments_lexer": "ipython3",
   "version": "3.8.5"
  }
 },
 "nbformat": 4,
 "nbformat_minor": 4
}
