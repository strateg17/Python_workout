{
 "cells": [
  {
   "cell_type": "code",
   "execution_count": 3,
   "metadata": {},
   "outputs": [],
   "source": [
    "import operator"
   ]
  },
  {
   "cell_type": "code",
   "execution_count": 2,
   "metadata": {},
   "outputs": [],
   "source": [
    "people = [('Donald', 'Trump', 7.85),\n",
    "          ('Vladimir', 'Putin', 3.626),\n",
    "          ('Jinping', 'Xi', 10.603)]"
   ]
  },
  {
   "cell_type": "code",
   "execution_count": 4,
   "metadata": {},
   "outputs": [],
   "source": [
    "def format_sort_records(list_of_tuples):\n",
    "    output = []\n",
    "    templete = '{1:10} {0:10} {2:5.2f}'\n",
    "    for person in sorted(list_of_tuples, key=operator.itemgetter(1,0)):\n",
    "        output.append(templete.format(*person))\n",
    "    return output"
   ]
  },
  {
   "cell_type": "code",
   "execution_count": 9,
   "metadata": {},
   "outputs": [
    {
     "name": "stdout",
     "output_type": "stream",
     "text": [
      "Putin      Vladimir    3.63\n",
      "Trump      Donald      7.85\n",
      "Xi         Jinping    10.60\n"
     ]
    }
   ],
   "source": [
    "print('\\n'.join(format_sort_records(people)))"
   ]
  }
 ],
 "metadata": {
  "kernelspec": {
   "display_name": "Python 3",
   "language": "python",
   "name": "python3"
  },
  "language_info": {
   "codemirror_mode": {
    "name": "ipython",
    "version": 3
   },
   "file_extension": ".py",
   "mimetype": "text/x-python",
   "name": "python",
   "nbconvert_exporter": "python",
   "pygments_lexer": "ipython3",
   "version": "3.8.5"
  }
 },
 "nbformat": 4,
 "nbformat_minor": 4
}
