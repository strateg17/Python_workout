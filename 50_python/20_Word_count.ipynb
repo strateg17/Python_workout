{
 "cells": [
  {
   "cell_type": "code",
   "execution_count": 1,
   "metadata": {},
   "outputs": [],
   "source": [
    "def wordcount(filename):\n",
    "    counts = {'character': 0, \n",
    "              'words': 0,\n",
    "              'lines': 0}\n",
    "    unique_words = set()\n",
    "    \n",
    "    for one_line in open(filename):\n",
    "        counts['lines'] +=1\n",
    "        counts['character'] += len(one_line)\n",
    "        counts['words'] +=len(one_line.split())\n",
    "        \n",
    "        unique_words.update(one_line.split())\n",
    "        \n",
    "    counts['unique_words'] = len(unique_words)\n",
    "    for key, value in counts.items():\n",
    "        print(f'{key}: {value}')        "
   ]
  },
  {
   "cell_type": "code",
   "execution_count": null,
   "metadata": {},
   "outputs": [],
   "source": [
    "wordcount('wcfile.txt')"
   ]
  }
 ],
 "metadata": {
  "kernelspec": {
   "display_name": "Python 3",
   "language": "python",
   "name": "python3"
  },
  "language_info": {
   "codemirror_mode": {
    "name": "ipython",
    "version": 3
   },
   "file_extension": ".py",
   "mimetype": "text/x-python",
   "name": "python",
   "nbconvert_exporter": "python",
   "pygments_lexer": "ipython3",
   "version": "3.8.5"
  }
 },
 "nbformat": 4,
 "nbformat_minor": 4
}
