{
 "cells": [
  {
   "cell_type": "code",
   "execution_count": 1,
   "metadata": {},
   "outputs": [],
   "source": [
    "import json\n",
    "import glob"
   ]
  },
  {
   "cell_type": "code",
   "execution_count": 2,
   "metadata": {},
   "outputs": [],
   "source": [
    "def print_scores(dirname):\n",
    "    \n",
    "    scores = {}\n",
    "    \n",
    "    for filename in glob.glob(f'{dirname}/*.json'):\n",
    "        scores[filename]= {}\n",
    "        \n",
    "        with open(filename) as infile:\n",
    "            for result in json.load(infile): # read from JSON file and turns in into Python object\n",
    "                for subject, scores in result.items():\n",
    "                    scores[filename].setdefault(subject, []) # makes sure that subject exists as a key in scores[filename]\n",
    "                    scores[filename][subject].append(score)\n",
    "                    \n",
    "    for one_class in scores:\n",
    "        print(one_class)\n",
    "        for subject, subject_scores in scores[one_class].items():\n",
    "            min_score = min(subject_scores)\n",
    "            max_score = max(subject_scores)\n",
    "            average_score = (sum(subject_scores)/len(subject_scores))\n",
    "            \n",
    "            print(subject)\n",
    "            print(f'\\t min {min_score}')\n",
    "            print(f'\\t max {max_score}')\n",
    "            print(f'\\t average {average_scores}')"
   ]
  },
  {
   "cell_type": "code",
   "execution_count": null,
   "metadata": {},
   "outputs": [],
   "source": []
  }
 ],
 "metadata": {
  "kernelspec": {
   "display_name": "Python 3",
   "language": "python",
   "name": "python3"
  },
  "language_info": {
   "codemirror_mode": {
    "name": "ipython",
    "version": 3
   },
   "file_extension": ".py",
   "mimetype": "text/x-python",
   "name": "python",
   "nbconvert_exporter": "python",
   "pygments_lexer": "ipython3",
   "version": "3.8.5"
  }
 },
 "nbformat": 4,
 "nbformat_minor": 4
}
