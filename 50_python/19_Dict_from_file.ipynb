{
 "cells": [
  {
   "cell_type": "code",
   "execution_count": 2,
   "metadata": {},
   "outputs": [],
   "source": [
    "def passwd_to_dict(filename):\n",
    "    users = {}\n",
    "    with open(filename) as passwd:\n",
    "        for line in open(filename):\n",
    "            if not line.startswith(('#','\\n')): # Ignores comments and blank lines\n",
    "                user_info = line.split(':')     # Turns the line into a list of strings\n",
    "            users[user_info[0]] = int(user_info[2])\n",
    "    \n",
    "    return users        "
   ]
  },
  {
   "cell_type": "code",
   "execution_count": null,
   "metadata": {},
   "outputs": [],
   "source": [
    "print(passwd_to_dict('/etc/passwd'))"
   ]
  }
 ],
 "metadata": {
  "kernelspec": {
   "display_name": "Python 3",
   "language": "python",
   "name": "python3"
  },
  "language_info": {
   "codemirror_mode": {
    "name": "ipython",
    "version": 3
   },
   "file_extension": ".py",
   "mimetype": "text/x-python",
   "name": "python",
   "nbconvert_exporter": "python",
   "pygments_lexer": "ipython3",
   "version": "3.8.5"
  }
 },
 "nbformat": 4,
 "nbformat_minor": 4
}
