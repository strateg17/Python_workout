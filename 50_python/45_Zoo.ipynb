{
 "cells": [
  {
   "cell_type": "code",
   "execution_count": 4,
   "metadata": {},
   "outputs": [],
   "source": [
    "class Animals():\n",
    "    def __init__(self, color, number_of_legs):\n",
    "        self.species = self.__class__.__name__\n",
    "        self.color = color\n",
    "        self.number_of_legs = number_of_legs\n",
    "        \n",
    "    def __repr__(self): \n",
    "        return f'{self.color} {self.species}, {self.number_of_legs} legs'"
   ]
  },
  {
   "cell_type": "code",
   "execution_count": 5,
   "metadata": {},
   "outputs": [],
   "source": [
    "class Wolf(Animals):\n",
    "    def __init__(self, color):\n",
    "        super().__init__(color,4)"
   ]
  },
  {
   "cell_type": "code",
   "execution_count": 6,
   "metadata": {},
   "outputs": [],
   "source": [
    "class Sheep(Animals):\n",
    "    def __init__(self,color):\n",
    "        super().__init__(color,4)"
   ]
  },
  {
   "cell_type": "code",
   "execution_count": 7,
   "metadata": {},
   "outputs": [],
   "source": [
    "class Snake(Animals):\n",
    "    def __init__(self,color):\n",
    "        super().__init__(color,0)"
   ]
  },
  {
   "cell_type": "code",
   "execution_count": 8,
   "metadata": {},
   "outputs": [],
   "source": [
    "class Parrot(Animals):\n",
    "    def __init__(self,color):\n",
    "        super().__init__(color,2)"
   ]
  },
  {
   "cell_type": "code",
   "execution_count": 17,
   "metadata": {},
   "outputs": [],
   "source": [
    "class Cage():\n",
    "    def __init__(self, id_number):\n",
    "        self.id_number = id_number\n",
    "        self.animals = []\n",
    "        \n",
    "    def add_animals(self, *animals):\n",
    "        for one_animal in animals:\n",
    "            self.animals.append(one_animal)\n",
    "            \n",
    "    def __repr__(self):\n",
    "        output = f'Cage {self.id_number} \\n'\n",
    "        output += '\\n'.join('\\t' + str(animal) for animal in self.animals)\n",
    "        \n",
    "        return output"
   ]
  },
  {
   "cell_type": "code",
   "execution_count": 18,
   "metadata": {},
   "outputs": [],
   "source": [
    "wolf = Wolf('black')\n",
    "sheep = Sheep('white')\n",
    "snake = Snake('brown')\n",
    "parrot = Parrot('green')"
   ]
  },
  {
   "cell_type": "code",
   "execution_count": 19,
   "metadata": {},
   "outputs": [],
   "source": [
    "c1 = Cage(1)\n",
    "c1.add_animals(wolf,sheep)"
   ]
  },
  {
   "cell_type": "code",
   "execution_count": 20,
   "metadata": {},
   "outputs": [],
   "source": [
    "c2 = Cage(2)\n",
    "c2.add_animals(snake,parrot)"
   ]
  },
  {
   "cell_type": "code",
   "execution_count": 26,
   "metadata": {},
   "outputs": [],
   "source": [
    "class Zoo():\n",
    "    def __init__(self):\n",
    "        self.cages = []\n",
    "        \n",
    "    def add_cages(self, *cages):\n",
    "        for one_cage in cages:\n",
    "            self.cages.append(one_cage)\n",
    "            \n",
    "    def __repr__(self):\n",
    "        return '\\n'.join(str(one_cage) for one_cage in self.cages)\n",
    "    \n",
    "    def animals_by_color(self, color): # Defines the method that'll return animal object that match our color\n",
    "        return [one_animal \n",
    "                for one_cage in self.cages\n",
    "                for one_animal in one_cage.animals\n",
    "                if one_animal.color == color]\n",
    "    \n",
    "    def animals_by_legs(self, number_of_legs): # Defines the method that'll return animal object that match our number of legs\n",
    "        return [one_animal \n",
    "                for one_cage in self.cages\n",
    "                for one_animal in one_cage.animals\n",
    "                if one_animal.number_of_legs == number_of_legs]\n",
    "    \n",
    "    def number_of_legs(self): # Return the number of legs\n",
    "        return [one_animal.number_of_legs\n",
    "                for one_cage in self.cages\n",
    "                for one_animal in one_cage.animals]\n",
    "    \n",
    "    \n",
    "    "
   ]
  },
  {
   "cell_type": "code",
   "execution_count": 27,
   "metadata": {},
   "outputs": [],
   "source": [
    "z = Zoo()"
   ]
  },
  {
   "cell_type": "code",
   "execution_count": 28,
   "metadata": {},
   "outputs": [],
   "source": [
    "z.add_cages(c1, c2)"
   ]
  },
  {
   "cell_type": "code",
   "execution_count": 29,
   "metadata": {},
   "outputs": [
    {
     "name": "stdout",
     "output_type": "stream",
     "text": [
      "Cage 1 \n",
      "\tblack Wolf, 4 legs\n",
      "\twhite Sheep, 4 legs\n",
      "Cage 2 \n",
      "\tbrown Snake, 0 legs\n",
      "\tgreen Parrot, 2 legs\n",
      "[white Sheep, 4 legs]\n",
      "[black Wolf, 4 legs, white Sheep, 4 legs]\n",
      "[4, 4, 0, 2]\n"
     ]
    }
   ],
   "source": [
    "print(z)\n",
    "print(z.animals_by_color('white'))\n",
    "print(z.animals_by_legs(4))\n",
    "print(z.number_of_legs())"
   ]
  },
  {
   "cell_type": "code",
   "execution_count": null,
   "metadata": {},
   "outputs": [],
   "source": []
  }
 ],
 "metadata": {
  "kernelspec": {
   "display_name": "Python 3",
   "language": "python",
   "name": "python3"
  },
  "language_info": {
   "codemirror_mode": {
    "name": "ipython",
    "version": 3
   },
   "file_extension": ".py",
   "mimetype": "text/x-python",
   "name": "python",
   "nbconvert_exporter": "python",
   "pygments_lexer": "ipython3",
   "version": "3.8.5"
  }
 },
 "nbformat": 4,
 "nbformat_minor": 4
}
