{
 "cells": [
  {
   "cell_type": "code",
   "execution_count": 3,
   "metadata": {},
   "outputs": [],
   "source": [
    "def myxml(tagname, content='', **kwargs): # The function has one mandatory parameters, one with a default, and **kwargs\n",
    "    \n",
    "    attrs = ''.join([f'{key}=\"{value}\"'for key, value in kwargs.items()]) # Uses a list comprehension to create a string from kwargs\n",
    "    \n",
    "    return f'<{tagname}{attrs}>{content}</{tagname}>' # return the XML formated string"
   ]
  },
  {
   "cell_type": "code",
   "execution_count": 2,
   "metadata": {},
   "outputs": [
    {
     "name": "stdout",
     "output_type": "stream",
     "text": [
      "<tagnamea=\"1\"b=\"2\"c=\"3\">hello</tagname>\n"
     ]
    }
   ],
   "source": [
    "print(myxml('tagname', 'hello', a=1, b=2, c=3))"
   ]
  },
  {
   "cell_type": "code",
   "execution_count": null,
   "metadata": {},
   "outputs": [],
   "source": []
  }
 ],
 "metadata": {
  "kernelspec": {
   "display_name": "Python 3",
   "language": "python",
   "name": "python3"
  },
  "language_info": {
   "codemirror_mode": {
    "name": "ipython",
    "version": 3
   },
   "file_extension": ".py",
   "mimetype": "text/x-python",
   "name": "python",
   "nbconvert_exporter": "python",
   "pygments_lexer": "ipython3",
   "version": "3.8.5"
  }
 },
 "nbformat": 4,
 "nbformat_minor": 4
}
